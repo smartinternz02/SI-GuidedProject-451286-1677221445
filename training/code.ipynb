{
  "metadata": {
    "kernelspec": {
      "language": "python",
      "display_name": "Python 3",
      "name": "python3"
    },
    "language_info": {
      "name": "python",
      "version": "3.7.12",
      "mimetype": "text/x-python",
      "codemirror_mode": {
        "name": "ipython",
        "version": 3
      },
      "pygments_lexer": "ipython3",
      "nbconvert_exporter": "python",
      "file_extension": ".py"
    },
    "colab": {
      "provenance": []
    }
  },
  "nbformat_minor": 0,
  "nbformat": 4,
  "cells": [
    {
      "cell_type": "code",
      "source": [
        "!pip install kaggle"
      ],
      "metadata": {
        "execution": {
          "iopub.status.busy": "2022-10-01T06:03:53.425341Z",
          "iopub.execute_input": "2022-10-01T06:03:53.425923Z",
          "iopub.status.idle": "2022-10-01T06:03:53.434042Z",
          "shell.execute_reply.started": "2022-10-01T06:03:53.425829Z",
          "shell.execute_reply": "2022-10-01T06:03:53.432708Z"
        },
        "trusted": true,
        "colab": {
          "base_uri": "https://localhost:8080/"
        },
        "id": "XouADhsC1vQc",
        "outputId": "1d16759b-a257-40f1-c49e-1495eed993b7"
      },
      "execution_count": 1,
      "outputs": [
        {
          "output_type": "stream",
          "name": "stdout",
          "text": [
            "Looking in indexes: https://pypi.org/simple, https://us-python.pkg.dev/colab-wheels/public/simple/\n",
            "Requirement already satisfied: kaggle in /usr/local/lib/python3.8/dist-packages (1.5.12)\n",
            "Requirement already satisfied: python-dateutil in /usr/local/lib/python3.8/dist-packages (from kaggle) (2.8.2)\n",
            "Requirement already satisfied: python-slugify in /usr/local/lib/python3.8/dist-packages (from kaggle) (8.0.1)\n",
            "Requirement already satisfied: six>=1.10 in /usr/local/lib/python3.8/dist-packages (from kaggle) (1.15.0)\n",
            "Requirement already satisfied: requests in /usr/local/lib/python3.8/dist-packages (from kaggle) (2.25.1)\n",
            "Requirement already satisfied: urllib3 in /usr/local/lib/python3.8/dist-packages (from kaggle) (1.26.14)\n",
            "Requirement already satisfied: tqdm in /usr/local/lib/python3.8/dist-packages (from kaggle) (4.64.1)\n",
            "Requirement already satisfied: certifi in /usr/local/lib/python3.8/dist-packages (from kaggle) (2022.12.7)\n",
            "Requirement already satisfied: text-unidecode>=1.3 in /usr/local/lib/python3.8/dist-packages (from python-slugify->kaggle) (1.3)\n",
            "Requirement already satisfied: idna<3,>=2.5 in /usr/local/lib/python3.8/dist-packages (from requests->kaggle) (2.10)\n",
            "Requirement already satisfied: chardet<5,>=3.0.2 in /usr/local/lib/python3.8/dist-packages (from requests->kaggle) (4.0.0)\n"
          ]
        }
      ]
    },
    {
      "cell_type": "code",
      "source": [
        "!mkdir ~/.kaggle\n",
        "!cp /content/kaggle.json ~/.kaggle/kaggle.json\n",
        "!chmod 600 /root/.kaggle/kaggle.json"
      ],
      "metadata": {
        "execution": {
          "iopub.status.busy": "2022-10-01T06:03:53.436171Z",
          "iopub.execute_input": "2022-10-01T06:03:53.436746Z",
          "iopub.status.idle": "2022-10-01T06:03:53.447708Z",
          "shell.execute_reply.started": "2022-10-01T06:03:53.436684Z",
          "shell.execute_reply": "2022-10-01T06:03:53.446312Z"
        },
        "trusted": true,
        "colab": {
          "base_uri": "https://localhost:8080/"
        },
        "id": "lbgqID9O1vQd",
        "outputId": "c6da1eb0-d219-4bae-fc12-1551c6bffa84"
      },
      "execution_count": 2,
      "outputs": [
        {
          "output_type": "stream",
          "name": "stdout",
          "text": [
            "cp: cannot stat '/content/kaggle.json': No such file or directory\n",
            "chmod: cannot access '/root/.kaggle/kaggle.json': No such file or directory\n"
          ]
        }
      ]
    },
    {
      "cell_type": "code",
      "source": [
        "!unzip *.zip"
      ],
      "metadata": {
        "execution": {
          "iopub.status.busy": "2022-10-01T06:03:53.452108Z",
          "iopub.execute_input": "2022-10-01T06:03:53.452761Z",
          "iopub.status.idle": "2022-10-01T06:03:53.462079Z",
          "shell.execute_reply.started": "2022-10-01T06:03:53.452719Z",
          "shell.execute_reply": "2022-10-01T06:03:53.460592Z"
        },
        "trusted": true,
        "colab": {
          "base_uri": "https://localhost:8080/"
        },
        "id": "7StGWxSI1vQd",
        "outputId": "b4241663-ba6f-4a68-abe6-656832dd4d7e"
      },
      "execution_count": 3,
      "outputs": [
        {
          "output_type": "stream",
          "name": "stdout",
          "text": [
            "unzip:  cannot find or open *.zip, *.zip.zip or *.zip.ZIP.\n",
            "\n",
            "No zipfiles found.\n"
          ]
        }
      ]
    },
    {
      "cell_type": "markdown",
      "source": [
        "# Importing Required Libraries"
      ],
      "metadata": {
        "id": "8tXl_akm1vQd"
      }
    },
    {
      "cell_type": "code",
      "source": [
        "import pandas as pd\n",
        "import numpy as np\n",
        "import matplotlib.pyplot as plt\n",
        "import seaborn as sns\n",
        "sns.set_style(\"darkgrid\")\n",
        "\n",
        "\n",
        "from sklearn.model_selection import train_test_split\n",
        "from sklearn.preprocessing import LabelEncoder\n",
        "\n",
        "from sklearn.linear_model import LinearRegression\n",
        "from sklearn.svm import SVR\n",
        "from sklearn.ensemble import RandomForestRegressor\n",
        "from sklearn.ensemble import GradientBoostingRegressor\n",
        "from lightgbm import LGBMRegressor\n",
        "from sklearn.tree import DecisionTreeRegressor\n",
        "from sklearn.neural_network import MLPRegressor\n",
        "\n",
        "from sklearn import  metrics\n",
        "\n",
        "%matplotlib inline"
      ],
      "metadata": {
        "execution": {
          "iopub.status.busy": "2022-10-01T06:03:53.464706Z",
          "iopub.execute_input": "2022-10-01T06:03:53.465176Z",
          "iopub.status.idle": "2022-10-01T06:03:54.780142Z",
          "shell.execute_reply.started": "2022-10-01T06:03:53.465132Z",
          "shell.execute_reply": "2022-10-01T06:03:54.778962Z"
        },
        "trusted": true,
        "id": "GKBSlrll1vQe"
      },
      "execution_count": 4,
      "outputs": []
    },
    {
      "cell_type": "markdown",
      "source": [
        "**Checking our data**"
      ],
      "metadata": {
        "id": "Vryvt6Xk1vQf"
      }
    },
    {
      "cell_type": "code",
      "source": [
        "dataframe = pd.read_csv('abalone.csv')\n",
        "dataframe.head()"
      ],
      "metadata": {
        "execution": {
          "iopub.status.busy": "2022-10-01T06:03:54.781914Z",
          "iopub.execute_input": "2022-10-01T06:03:54.782294Z",
          "iopub.status.idle": "2022-10-01T06:03:54.819021Z",
          "shell.execute_reply.started": "2022-10-01T06:03:54.782259Z",
          "shell.execute_reply": "2022-10-01T06:03:54.817804Z"
        },
        "trusted": true,
        "colab": {
          "base_uri": "https://localhost:8080/",
          "height": 206
        },
        "id": "KRwMLlkF1vQf",
        "outputId": "69a89415-b4a5-436d-b688-5107d701b7ef"
      },
      "execution_count": 6,
      "outputs": [
        {
          "output_type": "execute_result",
          "data": {
            "text/plain": [
              "  Sex  Length  Diameter  Height  Whole weight  Shucked weight  Viscera weight  \\\n",
              "0   M   0.455     0.365   0.095        0.5140          0.2245          0.1010   \n",
              "1   M   0.350     0.265   0.090        0.2255          0.0995          0.0485   \n",
              "2   F   0.530     0.420   0.135        0.6770          0.2565          0.1415   \n",
              "3   M   0.440     0.365   0.125        0.5160          0.2155          0.1140   \n",
              "4   I   0.330     0.255   0.080        0.2050          0.0895          0.0395   \n",
              "\n",
              "   Shell weight  Rings  \n",
              "0         0.150     15  \n",
              "1         0.070      7  \n",
              "2         0.210      9  \n",
              "3         0.155     10  \n",
              "4         0.055      7  "
            ],
            "text/html": [
              "\n",
              "  <div id=\"df-b4e1dea9-257d-413e-afdf-dd22ee8bd0b2\">\n",
              "    <div class=\"colab-df-container\">\n",
              "      <div>\n",
              "<style scoped>\n",
              "    .dataframe tbody tr th:only-of-type {\n",
              "        vertical-align: middle;\n",
              "    }\n",
              "\n",
              "    .dataframe tbody tr th {\n",
              "        vertical-align: top;\n",
              "    }\n",
              "\n",
              "    .dataframe thead th {\n",
              "        text-align: right;\n",
              "    }\n",
              "</style>\n",
              "<table border=\"1\" class=\"dataframe\">\n",
              "  <thead>\n",
              "    <tr style=\"text-align: right;\">\n",
              "      <th></th>\n",
              "      <th>Sex</th>\n",
              "      <th>Length</th>\n",
              "      <th>Diameter</th>\n",
              "      <th>Height</th>\n",
              "      <th>Whole weight</th>\n",
              "      <th>Shucked weight</th>\n",
              "      <th>Viscera weight</th>\n",
              "      <th>Shell weight</th>\n",
              "      <th>Rings</th>\n",
              "    </tr>\n",
              "  </thead>\n",
              "  <tbody>\n",
              "    <tr>\n",
              "      <th>0</th>\n",
              "      <td>M</td>\n",
              "      <td>0.455</td>\n",
              "      <td>0.365</td>\n",
              "      <td>0.095</td>\n",
              "      <td>0.5140</td>\n",
              "      <td>0.2245</td>\n",
              "      <td>0.1010</td>\n",
              "      <td>0.150</td>\n",
              "      <td>15</td>\n",
              "    </tr>\n",
              "    <tr>\n",
              "      <th>1</th>\n",
              "      <td>M</td>\n",
              "      <td>0.350</td>\n",
              "      <td>0.265</td>\n",
              "      <td>0.090</td>\n",
              "      <td>0.2255</td>\n",
              "      <td>0.0995</td>\n",
              "      <td>0.0485</td>\n",
              "      <td>0.070</td>\n",
              "      <td>7</td>\n",
              "    </tr>\n",
              "    <tr>\n",
              "      <th>2</th>\n",
              "      <td>F</td>\n",
              "      <td>0.530</td>\n",
              "      <td>0.420</td>\n",
              "      <td>0.135</td>\n",
              "      <td>0.6770</td>\n",
              "      <td>0.2565</td>\n",
              "      <td>0.1415</td>\n",
              "      <td>0.210</td>\n",
              "      <td>9</td>\n",
              "    </tr>\n",
              "    <tr>\n",
              "      <th>3</th>\n",
              "      <td>M</td>\n",
              "      <td>0.440</td>\n",
              "      <td>0.365</td>\n",
              "      <td>0.125</td>\n",
              "      <td>0.5160</td>\n",
              "      <td>0.2155</td>\n",
              "      <td>0.1140</td>\n",
              "      <td>0.155</td>\n",
              "      <td>10</td>\n",
              "    </tr>\n",
              "    <tr>\n",
              "      <th>4</th>\n",
              "      <td>I</td>\n",
              "      <td>0.330</td>\n",
              "      <td>0.255</td>\n",
              "      <td>0.080</td>\n",
              "      <td>0.2050</td>\n",
              "      <td>0.0895</td>\n",
              "      <td>0.0395</td>\n",
              "      <td>0.055</td>\n",
              "      <td>7</td>\n",
              "    </tr>\n",
              "  </tbody>\n",
              "</table>\n",
              "</div>\n",
              "      <button class=\"colab-df-convert\" onclick=\"convertToInteractive('df-b4e1dea9-257d-413e-afdf-dd22ee8bd0b2')\"\n",
              "              title=\"Convert this dataframe to an interactive table.\"\n",
              "              style=\"display:none;\">\n",
              "        \n",
              "  <svg xmlns=\"http://www.w3.org/2000/svg\" height=\"24px\"viewBox=\"0 0 24 24\"\n",
              "       width=\"24px\">\n",
              "    <path d=\"M0 0h24v24H0V0z\" fill=\"none\"/>\n",
              "    <path d=\"M18.56 5.44l.94 2.06.94-2.06 2.06-.94-2.06-.94-.94-2.06-.94 2.06-2.06.94zm-11 1L8.5 8.5l.94-2.06 2.06-.94-2.06-.94L8.5 2.5l-.94 2.06-2.06.94zm10 10l.94 2.06.94-2.06 2.06-.94-2.06-.94-.94-2.06-.94 2.06-2.06.94z\"/><path d=\"M17.41 7.96l-1.37-1.37c-.4-.4-.92-.59-1.43-.59-.52 0-1.04.2-1.43.59L10.3 9.45l-7.72 7.72c-.78.78-.78 2.05 0 2.83L4 21.41c.39.39.9.59 1.41.59.51 0 1.02-.2 1.41-.59l7.78-7.78 2.81-2.81c.8-.78.8-2.07 0-2.86zM5.41 20L4 18.59l7.72-7.72 1.47 1.35L5.41 20z\"/>\n",
              "  </svg>\n",
              "      </button>\n",
              "      \n",
              "  <style>\n",
              "    .colab-df-container {\n",
              "      display:flex;\n",
              "      flex-wrap:wrap;\n",
              "      gap: 12px;\n",
              "    }\n",
              "\n",
              "    .colab-df-convert {\n",
              "      background-color: #E8F0FE;\n",
              "      border: none;\n",
              "      border-radius: 50%;\n",
              "      cursor: pointer;\n",
              "      display: none;\n",
              "      fill: #1967D2;\n",
              "      height: 32px;\n",
              "      padding: 0 0 0 0;\n",
              "      width: 32px;\n",
              "    }\n",
              "\n",
              "    .colab-df-convert:hover {\n",
              "      background-color: #E2EBFA;\n",
              "      box-shadow: 0px 1px 2px rgba(60, 64, 67, 0.3), 0px 1px 3px 1px rgba(60, 64, 67, 0.15);\n",
              "      fill: #174EA6;\n",
              "    }\n",
              "\n",
              "    [theme=dark] .colab-df-convert {\n",
              "      background-color: #3B4455;\n",
              "      fill: #D2E3FC;\n",
              "    }\n",
              "\n",
              "    [theme=dark] .colab-df-convert:hover {\n",
              "      background-color: #434B5C;\n",
              "      box-shadow: 0px 1px 3px 1px rgba(0, 0, 0, 0.15);\n",
              "      filter: drop-shadow(0px 1px 2px rgba(0, 0, 0, 0.3));\n",
              "      fill: #FFFFFF;\n",
              "    }\n",
              "  </style>\n",
              "\n",
              "      <script>\n",
              "        const buttonEl =\n",
              "          document.querySelector('#df-b4e1dea9-257d-413e-afdf-dd22ee8bd0b2 button.colab-df-convert');\n",
              "        buttonEl.style.display =\n",
              "          google.colab.kernel.accessAllowed ? 'block' : 'none';\n",
              "\n",
              "        async function convertToInteractive(key) {\n",
              "          const element = document.querySelector('#df-b4e1dea9-257d-413e-afdf-dd22ee8bd0b2');\n",
              "          const dataTable =\n",
              "            await google.colab.kernel.invokeFunction('convertToInteractive',\n",
              "                                                     [key], {});\n",
              "          if (!dataTable) return;\n",
              "\n",
              "          const docLinkHtml = 'Like what you see? Visit the ' +\n",
              "            '<a target=\"_blank\" href=https://colab.research.google.com/notebooks/data_table.ipynb>data table notebook</a>'\n",
              "            + ' to learn more about interactive tables.';\n",
              "          element.innerHTML = '';\n",
              "          dataTable['output_type'] = 'display_data';\n",
              "          await google.colab.output.renderOutput(dataTable, element);\n",
              "          const docLink = document.createElement('div');\n",
              "          docLink.innerHTML = docLinkHtml;\n",
              "          element.appendChild(docLink);\n",
              "        }\n",
              "      </script>\n",
              "    </div>\n",
              "  </div>\n",
              "  "
            ]
          },
          "metadata": {},
          "execution_count": 6
        }
      ]
    },
    {
      "cell_type": "markdown",
      "source": [
        "**Descriptive Statistics**"
      ],
      "metadata": {
        "id": "05RGCHOG1vQg"
      }
    },
    {
      "cell_type": "code",
      "source": [
        "dataframe.describe().T"
      ],
      "metadata": {
        "execution": {
          "iopub.status.busy": "2022-10-01T06:03:54.820790Z",
          "iopub.execute_input": "2022-10-01T06:03:54.821354Z",
          "iopub.status.idle": "2022-10-01T06:03:54.865325Z",
          "shell.execute_reply.started": "2022-10-01T06:03:54.821315Z",
          "shell.execute_reply": "2022-10-01T06:03:54.864070Z"
        },
        "trusted": true,
        "colab": {
          "base_uri": "https://localhost:8080/",
          "height": 300
        },
        "id": "JKVbns241vQh",
        "outputId": "596d4728-fad3-48eb-9c1b-3bb172d05b88"
      },
      "execution_count": 7,
      "outputs": [
        {
          "output_type": "execute_result",
          "data": {
            "text/plain": [
              "                 count      mean       std     min     25%     50%     75%  \\\n",
              "Length          4177.0  0.523992  0.120093  0.0750  0.4500  0.5450   0.615   \n",
              "Diameter        4177.0  0.407881  0.099240  0.0550  0.3500  0.4250   0.480   \n",
              "Height          4177.0  0.139516  0.041827  0.0000  0.1150  0.1400   0.165   \n",
              "Whole weight    4177.0  0.828742  0.490389  0.0020  0.4415  0.7995   1.153   \n",
              "Shucked weight  4177.0  0.359367  0.221963  0.0010  0.1860  0.3360   0.502   \n",
              "Viscera weight  4177.0  0.180594  0.109614  0.0005  0.0935  0.1710   0.253   \n",
              "Shell weight    4177.0  0.238831  0.139203  0.0015  0.1300  0.2340   0.329   \n",
              "Rings           4177.0  9.933684  3.224169  1.0000  8.0000  9.0000  11.000   \n",
              "\n",
              "                    max  \n",
              "Length           0.8150  \n",
              "Diameter         0.6500  \n",
              "Height           1.1300  \n",
              "Whole weight     2.8255  \n",
              "Shucked weight   1.4880  \n",
              "Viscera weight   0.7600  \n",
              "Shell weight     1.0050  \n",
              "Rings           29.0000  "
            ],
            "text/html": [
              "\n",
              "  <div id=\"df-71237ba6-5a41-4844-a3a8-4880765ef1e7\">\n",
              "    <div class=\"colab-df-container\">\n",
              "      <div>\n",
              "<style scoped>\n",
              "    .dataframe tbody tr th:only-of-type {\n",
              "        vertical-align: middle;\n",
              "    }\n",
              "\n",
              "    .dataframe tbody tr th {\n",
              "        vertical-align: top;\n",
              "    }\n",
              "\n",
              "    .dataframe thead th {\n",
              "        text-align: right;\n",
              "    }\n",
              "</style>\n",
              "<table border=\"1\" class=\"dataframe\">\n",
              "  <thead>\n",
              "    <tr style=\"text-align: right;\">\n",
              "      <th></th>\n",
              "      <th>count</th>\n",
              "      <th>mean</th>\n",
              "      <th>std</th>\n",
              "      <th>min</th>\n",
              "      <th>25%</th>\n",
              "      <th>50%</th>\n",
              "      <th>75%</th>\n",
              "      <th>max</th>\n",
              "    </tr>\n",
              "  </thead>\n",
              "  <tbody>\n",
              "    <tr>\n",
              "      <th>Length</th>\n",
              "      <td>4177.0</td>\n",
              "      <td>0.523992</td>\n",
              "      <td>0.120093</td>\n",
              "      <td>0.0750</td>\n",
              "      <td>0.4500</td>\n",
              "      <td>0.5450</td>\n",
              "      <td>0.615</td>\n",
              "      <td>0.8150</td>\n",
              "    </tr>\n",
              "    <tr>\n",
              "      <th>Diameter</th>\n",
              "      <td>4177.0</td>\n",
              "      <td>0.407881</td>\n",
              "      <td>0.099240</td>\n",
              "      <td>0.0550</td>\n",
              "      <td>0.3500</td>\n",
              "      <td>0.4250</td>\n",
              "      <td>0.480</td>\n",
              "      <td>0.6500</td>\n",
              "    </tr>\n",
              "    <tr>\n",
              "      <th>Height</th>\n",
              "      <td>4177.0</td>\n",
              "      <td>0.139516</td>\n",
              "      <td>0.041827</td>\n",
              "      <td>0.0000</td>\n",
              "      <td>0.1150</td>\n",
              "      <td>0.1400</td>\n",
              "      <td>0.165</td>\n",
              "      <td>1.1300</td>\n",
              "    </tr>\n",
              "    <tr>\n",
              "      <th>Whole weight</th>\n",
              "      <td>4177.0</td>\n",
              "      <td>0.828742</td>\n",
              "      <td>0.490389</td>\n",
              "      <td>0.0020</td>\n",
              "      <td>0.4415</td>\n",
              "      <td>0.7995</td>\n",
              "      <td>1.153</td>\n",
              "      <td>2.8255</td>\n",
              "    </tr>\n",
              "    <tr>\n",
              "      <th>Shucked weight</th>\n",
              "      <td>4177.0</td>\n",
              "      <td>0.359367</td>\n",
              "      <td>0.221963</td>\n",
              "      <td>0.0010</td>\n",
              "      <td>0.1860</td>\n",
              "      <td>0.3360</td>\n",
              "      <td>0.502</td>\n",
              "      <td>1.4880</td>\n",
              "    </tr>\n",
              "    <tr>\n",
              "      <th>Viscera weight</th>\n",
              "      <td>4177.0</td>\n",
              "      <td>0.180594</td>\n",
              "      <td>0.109614</td>\n",
              "      <td>0.0005</td>\n",
              "      <td>0.0935</td>\n",
              "      <td>0.1710</td>\n",
              "      <td>0.253</td>\n",
              "      <td>0.7600</td>\n",
              "    </tr>\n",
              "    <tr>\n",
              "      <th>Shell weight</th>\n",
              "      <td>4177.0</td>\n",
              "      <td>0.238831</td>\n",
              "      <td>0.139203</td>\n",
              "      <td>0.0015</td>\n",
              "      <td>0.1300</td>\n",
              "      <td>0.2340</td>\n",
              "      <td>0.329</td>\n",
              "      <td>1.0050</td>\n",
              "    </tr>\n",
              "    <tr>\n",
              "      <th>Rings</th>\n",
              "      <td>4177.0</td>\n",
              "      <td>9.933684</td>\n",
              "      <td>3.224169</td>\n",
              "      <td>1.0000</td>\n",
              "      <td>8.0000</td>\n",
              "      <td>9.0000</td>\n",
              "      <td>11.000</td>\n",
              "      <td>29.0000</td>\n",
              "    </tr>\n",
              "  </tbody>\n",
              "</table>\n",
              "</div>\n",
              "      <button class=\"colab-df-convert\" onclick=\"convertToInteractive('df-71237ba6-5a41-4844-a3a8-4880765ef1e7')\"\n",
              "              title=\"Convert this dataframe to an interactive table.\"\n",
              "              style=\"display:none;\">\n",
              "        \n",
              "  <svg xmlns=\"http://www.w3.org/2000/svg\" height=\"24px\"viewBox=\"0 0 24 24\"\n",
              "       width=\"24px\">\n",
              "    <path d=\"M0 0h24v24H0V0z\" fill=\"none\"/>\n",
              "    <path d=\"M18.56 5.44l.94 2.06.94-2.06 2.06-.94-2.06-.94-.94-2.06-.94 2.06-2.06.94zm-11 1L8.5 8.5l.94-2.06 2.06-.94-2.06-.94L8.5 2.5l-.94 2.06-2.06.94zm10 10l.94 2.06.94-2.06 2.06-.94-2.06-.94-.94-2.06-.94 2.06-2.06.94z\"/><path d=\"M17.41 7.96l-1.37-1.37c-.4-.4-.92-.59-1.43-.59-.52 0-1.04.2-1.43.59L10.3 9.45l-7.72 7.72c-.78.78-.78 2.05 0 2.83L4 21.41c.39.39.9.59 1.41.59.51 0 1.02-.2 1.41-.59l7.78-7.78 2.81-2.81c.8-.78.8-2.07 0-2.86zM5.41 20L4 18.59l7.72-7.72 1.47 1.35L5.41 20z\"/>\n",
              "  </svg>\n",
              "      </button>\n",
              "      \n",
              "  <style>\n",
              "    .colab-df-container {\n",
              "      display:flex;\n",
              "      flex-wrap:wrap;\n",
              "      gap: 12px;\n",
              "    }\n",
              "\n",
              "    .colab-df-convert {\n",
              "      background-color: #E8F0FE;\n",
              "      border: none;\n",
              "      border-radius: 50%;\n",
              "      cursor: pointer;\n",
              "      display: none;\n",
              "      fill: #1967D2;\n",
              "      height: 32px;\n",
              "      padding: 0 0 0 0;\n",
              "      width: 32px;\n",
              "    }\n",
              "\n",
              "    .colab-df-convert:hover {\n",
              "      background-color: #E2EBFA;\n",
              "      box-shadow: 0px 1px 2px rgba(60, 64, 67, 0.3), 0px 1px 3px 1px rgba(60, 64, 67, 0.15);\n",
              "      fill: #174EA6;\n",
              "    }\n",
              "\n",
              "    [theme=dark] .colab-df-convert {\n",
              "      background-color: #3B4455;\n",
              "      fill: #D2E3FC;\n",
              "    }\n",
              "\n",
              "    [theme=dark] .colab-df-convert:hover {\n",
              "      background-color: #434B5C;\n",
              "      box-shadow: 0px 1px 3px 1px rgba(0, 0, 0, 0.15);\n",
              "      filter: drop-shadow(0px 1px 2px rgba(0, 0, 0, 0.3));\n",
              "      fill: #FFFFFF;\n",
              "    }\n",
              "  </style>\n",
              "\n",
              "      <script>\n",
              "        const buttonEl =\n",
              "          document.querySelector('#df-71237ba6-5a41-4844-a3a8-4880765ef1e7 button.colab-df-convert');\n",
              "        buttonEl.style.display =\n",
              "          google.colab.kernel.accessAllowed ? 'block' : 'none';\n",
              "\n",
              "        async function convertToInteractive(key) {\n",
              "          const element = document.querySelector('#df-71237ba6-5a41-4844-a3a8-4880765ef1e7');\n",
              "          const dataTable =\n",
              "            await google.colab.kernel.invokeFunction('convertToInteractive',\n",
              "                                                     [key], {});\n",
              "          if (!dataTable) return;\n",
              "\n",
              "          const docLinkHtml = 'Like what you see? Visit the ' +\n",
              "            '<a target=\"_blank\" href=https://colab.research.google.com/notebooks/data_table.ipynb>data table notebook</a>'\n",
              "            + ' to learn more about interactive tables.';\n",
              "          element.innerHTML = '';\n",
              "          dataTable['output_type'] = 'display_data';\n",
              "          await google.colab.output.renderOutput(dataTable, element);\n",
              "          const docLink = document.createElement('div');\n",
              "          docLink.innerHTML = docLinkHtml;\n",
              "          element.appendChild(docLink);\n",
              "        }\n",
              "      </script>\n",
              "    </div>\n",
              "  </div>\n",
              "  "
            ]
          },
          "metadata": {},
          "execution_count": 7
        }
      ]
    },
    {
      "cell_type": "markdown",
      "source": [
        "**Label Encoding of Categorical Values**"
      ],
      "metadata": {
        "id": "DDAg0wah1vQh"
      }
    },
    {
      "cell_type": "code",
      "source": [
        "le=LabelEncoder()\n",
        "dataframe['Sex']=le.fit_transform(dataframe['Sex'])"
      ],
      "metadata": {
        "execution": {
          "iopub.status.busy": "2022-10-01T06:03:54.867233Z",
          "iopub.execute_input": "2022-10-01T06:03:54.867620Z",
          "iopub.status.idle": "2022-10-01T06:03:54.875436Z",
          "shell.execute_reply.started": "2022-10-01T06:03:54.867575Z",
          "shell.execute_reply": "2022-10-01T06:03:54.874157Z"
        },
        "trusted": true,
        "id": "hnnOj-M01vQh"
      },
      "execution_count": 8,
      "outputs": []
    },
    {
      "cell_type": "code",
      "source": [
        "dataframe"
      ],
      "metadata": {
        "execution": {
          "iopub.status.busy": "2022-10-01T06:03:54.877132Z",
          "iopub.execute_input": "2022-10-01T06:03:54.877508Z",
          "iopub.status.idle": "2022-10-01T06:03:54.905222Z",
          "shell.execute_reply.started": "2022-10-01T06:03:54.877474Z",
          "shell.execute_reply": "2022-10-01T06:03:54.904190Z"
        },
        "trusted": true,
        "colab": {
          "base_uri": "https://localhost:8080/",
          "height": 423
        },
        "id": "5rreBx8B1vQi",
        "outputId": "c5aec270-4c62-46b0-8108-29dbb2de04c9"
      },
      "execution_count": 9,
      "outputs": [
        {
          "output_type": "execute_result",
          "data": {
            "text/plain": [
              "      Sex  Length  Diameter  Height  Whole weight  Shucked weight  \\\n",
              "0       2   0.455     0.365   0.095        0.5140          0.2245   \n",
              "1       2   0.350     0.265   0.090        0.2255          0.0995   \n",
              "2       0   0.530     0.420   0.135        0.6770          0.2565   \n",
              "3       2   0.440     0.365   0.125        0.5160          0.2155   \n",
              "4       1   0.330     0.255   0.080        0.2050          0.0895   \n",
              "...   ...     ...       ...     ...           ...             ...   \n",
              "4172    0   0.565     0.450   0.165        0.8870          0.3700   \n",
              "4173    2   0.590     0.440   0.135        0.9660          0.4390   \n",
              "4174    2   0.600     0.475   0.205        1.1760          0.5255   \n",
              "4175    0   0.625     0.485   0.150        1.0945          0.5310   \n",
              "4176    2   0.710     0.555   0.195        1.9485          0.9455   \n",
              "\n",
              "      Viscera weight  Shell weight  Rings  \n",
              "0             0.1010        0.1500     15  \n",
              "1             0.0485        0.0700      7  \n",
              "2             0.1415        0.2100      9  \n",
              "3             0.1140        0.1550     10  \n",
              "4             0.0395        0.0550      7  \n",
              "...              ...           ...    ...  \n",
              "4172          0.2390        0.2490     11  \n",
              "4173          0.2145        0.2605     10  \n",
              "4174          0.2875        0.3080      9  \n",
              "4175          0.2610        0.2960     10  \n",
              "4176          0.3765        0.4950     12  \n",
              "\n",
              "[4177 rows x 9 columns]"
            ],
            "text/html": [
              "\n",
              "  <div id=\"df-5a00beda-6f84-4d64-88de-e78c2762da15\">\n",
              "    <div class=\"colab-df-container\">\n",
              "      <div>\n",
              "<style scoped>\n",
              "    .dataframe tbody tr th:only-of-type {\n",
              "        vertical-align: middle;\n",
              "    }\n",
              "\n",
              "    .dataframe tbody tr th {\n",
              "        vertical-align: top;\n",
              "    }\n",
              "\n",
              "    .dataframe thead th {\n",
              "        text-align: right;\n",
              "    }\n",
              "</style>\n",
              "<table border=\"1\" class=\"dataframe\">\n",
              "  <thead>\n",
              "    <tr style=\"text-align: right;\">\n",
              "      <th></th>\n",
              "      <th>Sex</th>\n",
              "      <th>Length</th>\n",
              "      <th>Diameter</th>\n",
              "      <th>Height</th>\n",
              "      <th>Whole weight</th>\n",
              "      <th>Shucked weight</th>\n",
              "      <th>Viscera weight</th>\n",
              "      <th>Shell weight</th>\n",
              "      <th>Rings</th>\n",
              "    </tr>\n",
              "  </thead>\n",
              "  <tbody>\n",
              "    <tr>\n",
              "      <th>0</th>\n",
              "      <td>2</td>\n",
              "      <td>0.455</td>\n",
              "      <td>0.365</td>\n",
              "      <td>0.095</td>\n",
              "      <td>0.5140</td>\n",
              "      <td>0.2245</td>\n",
              "      <td>0.1010</td>\n",
              "      <td>0.1500</td>\n",
              "      <td>15</td>\n",
              "    </tr>\n",
              "    <tr>\n",
              "      <th>1</th>\n",
              "      <td>2</td>\n",
              "      <td>0.350</td>\n",
              "      <td>0.265</td>\n",
              "      <td>0.090</td>\n",
              "      <td>0.2255</td>\n",
              "      <td>0.0995</td>\n",
              "      <td>0.0485</td>\n",
              "      <td>0.0700</td>\n",
              "      <td>7</td>\n",
              "    </tr>\n",
              "    <tr>\n",
              "      <th>2</th>\n",
              "      <td>0</td>\n",
              "      <td>0.530</td>\n",
              "      <td>0.420</td>\n",
              "      <td>0.135</td>\n",
              "      <td>0.6770</td>\n",
              "      <td>0.2565</td>\n",
              "      <td>0.1415</td>\n",
              "      <td>0.2100</td>\n",
              "      <td>9</td>\n",
              "    </tr>\n",
              "    <tr>\n",
              "      <th>3</th>\n",
              "      <td>2</td>\n",
              "      <td>0.440</td>\n",
              "      <td>0.365</td>\n",
              "      <td>0.125</td>\n",
              "      <td>0.5160</td>\n",
              "      <td>0.2155</td>\n",
              "      <td>0.1140</td>\n",
              "      <td>0.1550</td>\n",
              "      <td>10</td>\n",
              "    </tr>\n",
              "    <tr>\n",
              "      <th>4</th>\n",
              "      <td>1</td>\n",
              "      <td>0.330</td>\n",
              "      <td>0.255</td>\n",
              "      <td>0.080</td>\n",
              "      <td>0.2050</td>\n",
              "      <td>0.0895</td>\n",
              "      <td>0.0395</td>\n",
              "      <td>0.0550</td>\n",
              "      <td>7</td>\n",
              "    </tr>\n",
              "    <tr>\n",
              "      <th>...</th>\n",
              "      <td>...</td>\n",
              "      <td>...</td>\n",
              "      <td>...</td>\n",
              "      <td>...</td>\n",
              "      <td>...</td>\n",
              "      <td>...</td>\n",
              "      <td>...</td>\n",
              "      <td>...</td>\n",
              "      <td>...</td>\n",
              "    </tr>\n",
              "    <tr>\n",
              "      <th>4172</th>\n",
              "      <td>0</td>\n",
              "      <td>0.565</td>\n",
              "      <td>0.450</td>\n",
              "      <td>0.165</td>\n",
              "      <td>0.8870</td>\n",
              "      <td>0.3700</td>\n",
              "      <td>0.2390</td>\n",
              "      <td>0.2490</td>\n",
              "      <td>11</td>\n",
              "    </tr>\n",
              "    <tr>\n",
              "      <th>4173</th>\n",
              "      <td>2</td>\n",
              "      <td>0.590</td>\n",
              "      <td>0.440</td>\n",
              "      <td>0.135</td>\n",
              "      <td>0.9660</td>\n",
              "      <td>0.4390</td>\n",
              "      <td>0.2145</td>\n",
              "      <td>0.2605</td>\n",
              "      <td>10</td>\n",
              "    </tr>\n",
              "    <tr>\n",
              "      <th>4174</th>\n",
              "      <td>2</td>\n",
              "      <td>0.600</td>\n",
              "      <td>0.475</td>\n",
              "      <td>0.205</td>\n",
              "      <td>1.1760</td>\n",
              "      <td>0.5255</td>\n",
              "      <td>0.2875</td>\n",
              "      <td>0.3080</td>\n",
              "      <td>9</td>\n",
              "    </tr>\n",
              "    <tr>\n",
              "      <th>4175</th>\n",
              "      <td>0</td>\n",
              "      <td>0.625</td>\n",
              "      <td>0.485</td>\n",
              "      <td>0.150</td>\n",
              "      <td>1.0945</td>\n",
              "      <td>0.5310</td>\n",
              "      <td>0.2610</td>\n",
              "      <td>0.2960</td>\n",
              "      <td>10</td>\n",
              "    </tr>\n",
              "    <tr>\n",
              "      <th>4176</th>\n",
              "      <td>2</td>\n",
              "      <td>0.710</td>\n",
              "      <td>0.555</td>\n",
              "      <td>0.195</td>\n",
              "      <td>1.9485</td>\n",
              "      <td>0.9455</td>\n",
              "      <td>0.3765</td>\n",
              "      <td>0.4950</td>\n",
              "      <td>12</td>\n",
              "    </tr>\n",
              "  </tbody>\n",
              "</table>\n",
              "<p>4177 rows × 9 columns</p>\n",
              "</div>\n",
              "      <button class=\"colab-df-convert\" onclick=\"convertToInteractive('df-5a00beda-6f84-4d64-88de-e78c2762da15')\"\n",
              "              title=\"Convert this dataframe to an interactive table.\"\n",
              "              style=\"display:none;\">\n",
              "        \n",
              "  <svg xmlns=\"http://www.w3.org/2000/svg\" height=\"24px\"viewBox=\"0 0 24 24\"\n",
              "       width=\"24px\">\n",
              "    <path d=\"M0 0h24v24H0V0z\" fill=\"none\"/>\n",
              "    <path d=\"M18.56 5.44l.94 2.06.94-2.06 2.06-.94-2.06-.94-.94-2.06-.94 2.06-2.06.94zm-11 1L8.5 8.5l.94-2.06 2.06-.94-2.06-.94L8.5 2.5l-.94 2.06-2.06.94zm10 10l.94 2.06.94-2.06 2.06-.94-2.06-.94-.94-2.06-.94 2.06-2.06.94z\"/><path d=\"M17.41 7.96l-1.37-1.37c-.4-.4-.92-.59-1.43-.59-.52 0-1.04.2-1.43.59L10.3 9.45l-7.72 7.72c-.78.78-.78 2.05 0 2.83L4 21.41c.39.39.9.59 1.41.59.51 0 1.02-.2 1.41-.59l7.78-7.78 2.81-2.81c.8-.78.8-2.07 0-2.86zM5.41 20L4 18.59l7.72-7.72 1.47 1.35L5.41 20z\"/>\n",
              "  </svg>\n",
              "      </button>\n",
              "      \n",
              "  <style>\n",
              "    .colab-df-container {\n",
              "      display:flex;\n",
              "      flex-wrap:wrap;\n",
              "      gap: 12px;\n",
              "    }\n",
              "\n",
              "    .colab-df-convert {\n",
              "      background-color: #E8F0FE;\n",
              "      border: none;\n",
              "      border-radius: 50%;\n",
              "      cursor: pointer;\n",
              "      display: none;\n",
              "      fill: #1967D2;\n",
              "      height: 32px;\n",
              "      padding: 0 0 0 0;\n",
              "      width: 32px;\n",
              "    }\n",
              "\n",
              "    .colab-df-convert:hover {\n",
              "      background-color: #E2EBFA;\n",
              "      box-shadow: 0px 1px 2px rgba(60, 64, 67, 0.3), 0px 1px 3px 1px rgba(60, 64, 67, 0.15);\n",
              "      fill: #174EA6;\n",
              "    }\n",
              "\n",
              "    [theme=dark] .colab-df-convert {\n",
              "      background-color: #3B4455;\n",
              "      fill: #D2E3FC;\n",
              "    }\n",
              "\n",
              "    [theme=dark] .colab-df-convert:hover {\n",
              "      background-color: #434B5C;\n",
              "      box-shadow: 0px 1px 3px 1px rgba(0, 0, 0, 0.15);\n",
              "      filter: drop-shadow(0px 1px 2px rgba(0, 0, 0, 0.3));\n",
              "      fill: #FFFFFF;\n",
              "    }\n",
              "  </style>\n",
              "\n",
              "      <script>\n",
              "        const buttonEl =\n",
              "          document.querySelector('#df-5a00beda-6f84-4d64-88de-e78c2762da15 button.colab-df-convert');\n",
              "        buttonEl.style.display =\n",
              "          google.colab.kernel.accessAllowed ? 'block' : 'none';\n",
              "\n",
              "        async function convertToInteractive(key) {\n",
              "          const element = document.querySelector('#df-5a00beda-6f84-4d64-88de-e78c2762da15');\n",
              "          const dataTable =\n",
              "            await google.colab.kernel.invokeFunction('convertToInteractive',\n",
              "                                                     [key], {});\n",
              "          if (!dataTable) return;\n",
              "\n",
              "          const docLinkHtml = 'Like what you see? Visit the ' +\n",
              "            '<a target=\"_blank\" href=https://colab.research.google.com/notebooks/data_table.ipynb>data table notebook</a>'\n",
              "            + ' to learn more about interactive tables.';\n",
              "          element.innerHTML = '';\n",
              "          dataTable['output_type'] = 'display_data';\n",
              "          await google.colab.output.renderOutput(dataTable, element);\n",
              "          const docLink = document.createElement('div');\n",
              "          docLink.innerHTML = docLinkHtml;\n",
              "          element.appendChild(docLink);\n",
              "        }\n",
              "      </script>\n",
              "    </div>\n",
              "  </div>\n",
              "  "
            ]
          },
          "metadata": {},
          "execution_count": 9
        }
      ]
    },
    {
      "cell_type": "markdown",
      "source": [
        "# Data Visualisation"
      ],
      "metadata": {
        "id": "pu5Qvwbu1vQi"
      }
    },
    {
      "cell_type": "markdown",
      "source": [
        "**Checking for nulls using Missingno**\n",
        "\n"
      ],
      "metadata": {
        "id": "vLRsqruK1vQi"
      }
    },
    {
      "cell_type": "code",
      "source": [
        "!pip install missingno"
      ],
      "metadata": {
        "execution": {
          "iopub.status.busy": "2022-10-01T06:03:54.906558Z",
          "iopub.execute_input": "2022-10-01T06:03:54.907136Z",
          "iopub.status.idle": "2022-10-01T06:04:06.594806Z",
          "shell.execute_reply.started": "2022-10-01T06:03:54.907100Z",
          "shell.execute_reply": "2022-10-01T06:04:06.593289Z"
        },
        "trusted": true,
        "colab": {
          "base_uri": "https://localhost:8080/"
        },
        "id": "pplZ2q1X1vQj",
        "outputId": "8c551f5a-fd8f-4f80-be78-fd85cf9a1ed7"
      },
      "execution_count": 10,
      "outputs": [
        {
          "output_type": "stream",
          "name": "stdout",
          "text": [
            "Looking in indexes: https://pypi.org/simple, https://us-python.pkg.dev/colab-wheels/public/simple/\n",
            "Requirement already satisfied: missingno in /usr/local/lib/python3.8/dist-packages (0.5.2)\n",
            "Requirement already satisfied: numpy in /usr/local/lib/python3.8/dist-packages (from missingno) (1.22.4)\n",
            "Requirement already satisfied: seaborn in /usr/local/lib/python3.8/dist-packages (from missingno) (0.11.2)\n",
            "Requirement already satisfied: scipy in /usr/local/lib/python3.8/dist-packages (from missingno) (1.10.1)\n",
            "Requirement already satisfied: matplotlib in /usr/local/lib/python3.8/dist-packages (from missingno) (3.5.3)\n",
            "Requirement already satisfied: pillow>=6.2.0 in /usr/local/lib/python3.8/dist-packages (from matplotlib->missingno) (8.4.0)\n",
            "Requirement already satisfied: fonttools>=4.22.0 in /usr/local/lib/python3.8/dist-packages (from matplotlib->missingno) (4.38.0)\n",
            "Requirement already satisfied: cycler>=0.10 in /usr/local/lib/python3.8/dist-packages (from matplotlib->missingno) (0.11.0)\n",
            "Requirement already satisfied: python-dateutil>=2.7 in /usr/local/lib/python3.8/dist-packages (from matplotlib->missingno) (2.8.2)\n",
            "Requirement already satisfied: pyparsing>=2.2.1 in /usr/local/lib/python3.8/dist-packages (from matplotlib->missingno) (3.0.9)\n",
            "Requirement already satisfied: packaging>=20.0 in /usr/local/lib/python3.8/dist-packages (from matplotlib->missingno) (23.0)\n",
            "Requirement already satisfied: kiwisolver>=1.0.1 in /usr/local/lib/python3.8/dist-packages (from matplotlib->missingno) (1.4.4)\n",
            "Requirement already satisfied: pandas>=0.23 in /usr/local/lib/python3.8/dist-packages (from seaborn->missingno) (1.3.5)\n",
            "Requirement already satisfied: pytz>=2017.3 in /usr/local/lib/python3.8/dist-packages (from pandas>=0.23->seaborn->missingno) (2022.7.1)\n",
            "Requirement already satisfied: six>=1.5 in /usr/local/lib/python3.8/dist-packages (from python-dateutil>=2.7->matplotlib->missingno) (1.15.0)\n"
          ]
        }
      ]
    },
    {
      "cell_type": "code",
      "source": [
        "import missingno as msno"
      ],
      "metadata": {
        "execution": {
          "iopub.status.busy": "2022-10-01T06:04:06.596662Z",
          "iopub.execute_input": "2022-10-01T06:04:06.597076Z",
          "iopub.status.idle": "2022-10-01T06:04:06.605952Z",
          "shell.execute_reply.started": "2022-10-01T06:04:06.597032Z",
          "shell.execute_reply": "2022-10-01T06:04:06.604657Z"
        },
        "trusted": true,
        "id": "UY-eXLIz1vQj"
      },
      "execution_count": 11,
      "outputs": []
    },
    {
      "cell_type": "markdown",
      "source": [
        "**Plotting a Bar Chart of the Missing Values**"
      ],
      "metadata": {
        "id": "oshJue0d1vQk"
      }
    },
    {
      "cell_type": "code",
      "source": [
        "msno.bar(dataframe,fontsize = 24, color = 'blue')"
      ],
      "metadata": {
        "execution": {
          "iopub.status.busy": "2022-10-01T06:04:06.608033Z",
          "iopub.execute_input": "2022-10-01T06:04:06.608415Z",
          "iopub.status.idle": "2022-10-01T06:04:07.605141Z",
          "shell.execute_reply.started": "2022-10-01T06:04:06.608381Z",
          "shell.execute_reply": "2022-10-01T06:04:07.603792Z"
        },
        "trusted": true,
        "colab": {
          "base_uri": "https://localhost:8080/",
          "height": 753
        },
        "id": "JjNFFYEW1vQk",
        "outputId": "de97ec9a-1c64-46c5-eff7-a74d187adba2"
      },
      "execution_count": 12,
      "outputs": [
        {
          "output_type": "execute_result",
          "data": {
            "text/plain": [
              "<AxesSubplot:>"
            ]
          },
          "metadata": {},
          "execution_count": 12
        },
        {
          "output_type": "display_data",
          "data": {
            "text/plain": [
              "<Figure size 1800x720 with 3 Axes>"
            ],
            "image/png": "[encoded data removed]"
          },
          "metadata": {
            "needs_background": "light"
          }
        }
      ]
    },
    {
      "cell_type": "markdown",
      "source": [
        "**Heatmap of missing values**"
      ],
      "metadata": {
        "id": "3PbNpHjq1vQl"
      }
    },
    {
      "cell_type": "code",
      "source": [
        "msno.heatmap(dataframe,fontsize = 24, cmap = 'BrBG')"
      ],
      "metadata": {
        "execution": {
          "iopub.status.busy": "2022-10-01T06:04:07.610207Z",
          "iopub.execute_input": "2022-10-01T06:04:07.610614Z",
          "iopub.status.idle": "2022-10-01T06:04:07.903087Z",
          "shell.execute_reply.started": "2022-10-01T06:04:07.610574Z",
          "shell.execute_reply": "2022-10-01T06:04:07.901805Z"
        },
        "trusted": true,
        "colab": {
          "base_uri": "https://localhost:8080/",
          "height": 805
        },
        "id": "sS64f4RJ1vQl",
        "outputId": "224ff333-f359-459d-c21e-fed0671c0a1d"
      },
      "execution_count": 13,
      "outputs": [
        {
          "output_type": "stream",
          "name": "stderr",
          "text": [
            "/usr/local/lib/python3.8/dist-packages/seaborn/matrix.py:305: UserWarning: Attempting to set identical left == right == 0 results in singular transformations; automatically expanding.\n",
            "  ax.set(xlim=(0, self.data.shape[1]), ylim=(0, self.data.shape[0]))\n",
            "/usr/local/lib/python3.8/dist-packages/seaborn/matrix.py:305: UserWarning: Attempting to set identical bottom == top == 0 results in singular transformations; automatically expanding.\n",
            "  ax.set(xlim=(0, self.data.shape[1]), ylim=(0, self.data.shape[0]))\n"
          ]
        },
        {
          "output_type": "execute_result",
          "data": {
            "text/plain": [
              "<AxesSubplot:>"
            ]
          },
          "metadata": {},
          "execution_count": 13
        },
        {
          "output_type": "display_data",
          "data": {
            "text/plain": [
              "<Figure size 1440x864 with 2 Axes>"
            ],
            "image/png": "[encoded data removed]"
          },
          "metadata": {
            "needs_background": "light"
          }
        }
      ]
    },
    {
      "cell_type": "markdown",
      "source": [
        "**Hence we conclude that there are no missing values in our dataset**"
      ],
      "metadata": {
        "id": "Nt2KIWoc1vQm"
      }
    },
    {
      "cell_type": "markdown",
      "source": [
        "**Displot for Target**"
      ],
      "metadata": {
        "id": "l-NPkYYU1vQm"
      }
    },
    {
      "cell_type": "code",
      "source": [
        "sns.distplot(dataframe['Rings'])"
      ],
      "metadata": {
        "execution": {
          "iopub.status.busy": "2022-10-01T06:04:07.904492Z",
          "iopub.execute_input": "2022-10-01T06:04:07.904853Z",
          "iopub.status.idle": "2022-10-01T06:04:08.308613Z",
          "shell.execute_reply.started": "2022-10-01T06:04:07.904821Z",
          "shell.execute_reply": "2022-10-01T06:04:08.307246Z"
        },
        "trusted": true,
        "colab": {
          "base_uri": "https://localhost:8080/",
          "height": 354
        },
        "id": "e9plaoSS1vQm",
        "outputId": "bc639a73-6131-434b-8510-020fde08b0cd"
      },
      "execution_count": 14,
      "outputs": [
        {
          "output_type": "stream",
          "name": "stderr",
          "text": [
            "/usr/local/lib/python3.8/dist-packages/seaborn/distributions.py:2619: FutureWarning: `distplot` is a deprecated function and will be removed in a future version. Please adapt your code to use either `displot` (a figure-level function with similar flexibility) or `histplot` (an axes-level function for histograms).\n",
            "  warnings.warn(msg, FutureWarning)\n"
          ]
        },
        {
          "output_type": "execute_result",
          "data": {
            "text/plain": [
              "<AxesSubplot:xlabel='Rings', ylabel='Density'>"
            ]
          },
          "metadata": {},
          "execution_count": 14
        },
        {
          "output_type": "display_data",
          "data": {
            "text/plain": [
              "<Figure size 432x288 with 1 Axes>"
            ],
            "image/png": "[encoded data removed]"
          },
          "metadata": {
            "needs_background": "light"
          }
        }
      ]
    },
    {
      "cell_type": "markdown",
      "source": [
        "**Correlation Heatmap of Variables**\n",
        "\n"
      ],
      "metadata": {
        "id": "2JypQ8TK1vQn"
      }
    },
    {
      "cell_type": "code",
      "source": [
        "corr=dataframe.corr()\n",
        "print(corr)"
      ],
      "metadata": {
        "execution": {
          "iopub.status.busy": "2022-10-01T06:04:08.310320Z",
          "iopub.execute_input": "2022-10-01T06:04:08.310682Z",
          "iopub.status.idle": "2022-10-01T06:04:08.326331Z",
          "shell.execute_reply.started": "2022-10-01T06:04:08.310648Z",
          "shell.execute_reply": "2022-10-01T06:04:08.325051Z"
        },
        "trusted": true,
        "colab": {
          "base_uri": "https://localhost:8080/"
        },
        "id": "X9C_TFtH1vQn",
        "outputId": "ad049155-2ede-4127-a907-a734ca64b3dd"
      },
      "execution_count": 15,
      "outputs": [
        {
          "output_type": "stream",
          "name": "stdout",
          "text": [
            "                     Sex    Length  Diameter    Height  Whole weight  \\\n",
            "Sex             1.000000 -0.036066 -0.038874 -0.042077     -0.021391   \n",
            "Length         -0.036066  1.000000  0.986812  0.827554      0.925261   \n",
            "Diameter       -0.038874  0.986812  1.000000  0.833684      0.925452   \n",
            "Height         -0.042077  0.827554  0.833684  1.000000      0.819221   \n",
            "Whole weight   -0.021391  0.925261  0.925452  0.819221      1.000000   \n",
            "Shucked weight -0.001373  0.897914  0.893162  0.774972      0.969405   \n",
            "Viscera weight -0.032067  0.903018  0.899724  0.798319      0.966375   \n",
            "Shell weight   -0.034854  0.897706  0.905330  0.817338      0.955355   \n",
            "Rings          -0.034627  0.556720  0.574660  0.557467      0.540390   \n",
            "\n",
            "                Shucked weight  Viscera weight  Shell weight     Rings  \n",
            "Sex                  -0.001373       -0.032067     -0.034854 -0.034627  \n",
            "Length                0.897914        0.903018      0.897706  0.556720  \n",
            "Diameter              0.893162        0.899724      0.905330  0.574660  \n",
            "Height                0.774972        0.798319      0.817338  0.557467  \n",
            "Whole weight          0.969405        0.966375      0.955355  0.540390  \n",
            "Shucked weight        1.000000        0.931961      0.882617  0.420884  \n",
            "Viscera weight        0.931961        1.000000      0.907656  0.503819  \n",
            "Shell weight          0.882617        0.907656      1.000000  0.627574  \n",
            "Rings                 0.420884        0.503819      0.627574  1.000000  \n"
          ]
        }
      ]
    },
    {
      "cell_type": "code",
      "source": [
        "sns.heatmap(corr,cmap = 'YlGnBu')"
      ],
      "metadata": {
        "execution": {
          "iopub.status.busy": "2022-10-01T06:04:08.327586Z",
          "iopub.execute_input": "2022-10-01T06:04:08.327986Z",
          "iopub.status.idle": "2022-10-01T06:04:08.913916Z",
          "shell.execute_reply.started": "2022-10-01T06:04:08.327941Z",
          "shell.execute_reply": "2022-10-01T06:04:08.912900Z"
        },
        "trusted": true,
        "colab": {
          "base_uri": "https://localhost:8080/",
          "height": 357
        },
        "id": "dLQ8_zMk1vQn",
        "outputId": "07394c31-d1f3-45d1-9eb8-a97af428067d"
      },
      "execution_count": 16,
      "outputs": [
        {
          "output_type": "execute_result",
          "data": {
            "text/plain": [
              "<AxesSubplot:>"
            ]
          },
          "metadata": {},
          "execution_count": 16
        },
        {
          "output_type": "display_data",
          "data": {
            "text/plain": [
              "<Figure size 432x288 with 2 Axes>"
            ],
            "image/png": "[encoded data removed]"
          },
          "metadata": {
            "needs_background": "light"
          }
        }
      ]
    },
    {
      "cell_type": "markdown",
      "source": [
        "**Maximum Heights**"
      ],
      "metadata": {
        "id": "OwNSLTqK1vQo"
      }
    },
    {
      "cell_type": "code",
      "source": [
        "sns.countplot(y=dataframe['Height'],order=dataframe['Height'].value_counts().head(6).index)"
      ],
      "metadata": {
        "execution": {
          "iopub.status.busy": "2022-10-01T06:04:08.915692Z",
          "iopub.execute_input": "2022-10-01T06:04:08.916104Z",
          "iopub.status.idle": "2022-10-01T06:04:09.173566Z",
          "shell.execute_reply.started": "2022-10-01T06:04:08.916063Z",
          "shell.execute_reply": "2022-10-01T06:04:09.172148Z"
        },
        "trusted": true,
        "colab": {
          "base_uri": "https://localhost:8080/",
          "height": 297
        },
        "id": "wPw-shmQ1vQo",
        "outputId": "9e52eb4d-b422-415f-955e-dff268b34fe6"
      },
      "execution_count": 17,
      "outputs": [
        {
          "output_type": "execute_result",
          "data": {
            "text/plain": [
              "<AxesSubplot:xlabel='count', ylabel='Height'>"
            ]
          },
          "metadata": {},
          "execution_count": 17
        },
        {
          "output_type": "display_data",
          "data": {
            "text/plain": [
              "<Figure size 432x288 with 1 Axes>"
            ],
            "image/png": "[encoded data removed]"
          },
          "metadata": {
            "needs_background": "light"
          }
        }
      ]
    },
    {
      "cell_type": "markdown",
      "source": [
        "**Displot for Height**\n"
      ],
      "metadata": {
        "id": "c-AP2RQN1vQp"
      }
    },
    {
      "cell_type": "code",
      "source": [
        "sns.distplot(dataframe['Height'])"
      ],
      "metadata": {
        "execution": {
          "iopub.status.busy": "2022-10-01T06:04:09.174979Z",
          "iopub.execute_input": "2022-10-01T06:04:09.175340Z",
          "iopub.status.idle": "2022-10-01T06:04:09.578811Z",
          "shell.execute_reply.started": "2022-10-01T06:04:09.175307Z",
          "shell.execute_reply": "2022-10-01T06:04:09.577510Z"
        },
        "trusted": true,
        "colab": {
          "base_uri": "https://localhost:8080/",
          "height": 354
        },
        "id": "gma_54Io1vQp",
        "outputId": "684ea9f2-dc6d-4cad-c115-c1c4cb0349d3"
      },
      "execution_count": 18,
      "outputs": [
        {
          "output_type": "stream",
          "name": "stderr",
          "text": [
            "/usr/local/lib/python3.8/dist-packages/seaborn/distributions.py:2619: FutureWarning: `distplot` is a deprecated function and will be removed in a future version. Please adapt your code to use either `displot` (a figure-level function with similar flexibility) or `histplot` (an axes-level function for histograms).\n",
            "  warnings.warn(msg, FutureWarning)\n"
          ]
        },
        {
          "output_type": "execute_result",
          "data": {
            "text/plain": [
              "<AxesSubplot:xlabel='Height', ylabel='Density'>"
            ]
          },
          "metadata": {},
          "execution_count": 18
        },
        {
          "output_type": "display_data",
          "data": {
            "text/plain": [
              "<Figure size 432x288 with 1 Axes>"
            ],
            "image/png": "[encoded data removed]"
          },
          "metadata": {
            "needs_background": "light"
          }
        }
      ]
    },
    {
      "cell_type": "markdown",
      "source": [
        "**Breaking down into X and y**"
      ],
      "metadata": {
        "id": "aDm46W2u1vQp"
      }
    },
    {
      "cell_type": "code",
      "source": [
        "X = dataframe.iloc[:, :-1].values\n",
        "y = dataframe.iloc[:, -1].values"
      ],
      "metadata": {
        "execution": {
          "iopub.status.busy": "2022-10-01T06:04:09.580282Z",
          "iopub.execute_input": "2022-10-01T06:04:09.580672Z",
          "iopub.status.idle": "2022-10-01T06:04:09.587683Z",
          "shell.execute_reply.started": "2022-10-01T06:04:09.580632Z",
          "shell.execute_reply": "2022-10-01T06:04:09.586399Z"
        },
        "trusted": true,
        "id": "z-1Lc14n1vQq"
      },
      "execution_count": 19,
      "outputs": []
    },
    {
      "cell_type": "markdown",
      "source": [
        "**Creating Training and Validation sets**"
      ],
      "metadata": {
        "id": "XSlBQmWA1vQq"
      }
    },
    {
      "cell_type": "code",
      "source": [
        "train_X,val_X,train_y,val_y = train_test_split(X, y, test_size = 0.2, random_state = 0)"
      ],
      "metadata": {
        "execution": {
          "iopub.status.busy": "2022-10-01T06:04:09.589136Z",
          "iopub.execute_input": "2022-10-01T06:04:09.589531Z",
          "iopub.status.idle": "2022-10-01T06:04:09.600224Z",
          "shell.execute_reply.started": "2022-10-01T06:04:09.589495Z",
          "shell.execute_reply": "2022-10-01T06:04:09.599082Z"
        },
        "trusted": true,
        "id": "Qw5OM99q1vQq"
      },
      "execution_count": 20,
      "outputs": []
    },
    {
      "cell_type": "code",
      "source": [
        "print(\"Shape of Training X :\",train_X.shape)\n",
        "print(\"Shape of Validation X :\",val_X.shape)"
      ],
      "metadata": {
        "execution": {
          "iopub.status.busy": "2022-10-01T06:04:09.602072Z",
          "iopub.execute_input": "2022-10-01T06:04:09.602668Z",
          "iopub.status.idle": "2022-10-01T06:04:09.610894Z",
          "shell.execute_reply.started": "2022-10-01T06:04:09.602618Z",
          "shell.execute_reply": "2022-10-01T06:04:09.609442Z"
        },
        "trusted": true,
        "colab": {
          "base_uri": "https://localhost:8080/"
        },
        "id": "Oaajs82a1vQr",
        "outputId": "9dea9c3a-e5dc-45a3-d61d-4701a1513c0c"
      },
      "execution_count": 21,
      "outputs": [
        {
          "output_type": "stream",
          "name": "stdout",
          "text": [
            "Shape of Training X : (3341, 8)\n",
            "Shape of Validation X : (836, 8)\n"
          ]
        }
      ]
    },
    {
      "cell_type": "code",
      "source": [
        "print(\"Shape of Training y :\",train_y.shape)\n",
        "print(\"Shape of Validation y :\",val_y.shape)"
      ],
      "metadata": {
        "execution": {
          "iopub.status.busy": "2022-10-01T06:04:09.612650Z",
          "iopub.execute_input": "2022-10-01T06:04:09.613170Z",
          "iopub.status.idle": "2022-10-01T06:04:09.624086Z",
          "shell.execute_reply.started": "2022-10-01T06:04:09.613120Z",
          "shell.execute_reply": "2022-10-01T06:04:09.622938Z"
        },
        "trusted": true,
        "colab": {
          "base_uri": "https://localhost:8080/"
        },
        "id": "vmXQ-c6_1vQr",
        "outputId": "08562fa4-6664-4c62-f67f-73e610468a68"
      },
      "execution_count": 22,
      "outputs": [
        {
          "output_type": "stream",
          "name": "stdout",
          "text": [
            "Shape of Training y : (3341,)\n",
            "Shape of Validation y : (836,)\n"
          ]
        }
      ]
    },
    {
      "cell_type": "markdown",
      "source": [
        "# Model Building\n"
      ],
      "metadata": {
        "id": "B7V1ejJ51vQr"
      }
    },
    {
      "cell_type": "markdown",
      "source": [
        "**Linear Regression**"
      ],
      "metadata": {
        "id": "RPs_SxnA1vQs"
      }
    },
    {
      "cell_type": "code",
      "source": [
        "lr = LinearRegression()\n",
        "lr.fit(train_X,train_y)\n",
        "print('Attempting to fit Linear Regressor')"
      ],
      "metadata": {
        "execution": {
          "iopub.status.busy": "2022-10-01T06:04:09.626040Z",
          "iopub.execute_input": "2022-10-01T06:04:09.626573Z",
          "iopub.status.idle": "2022-10-01T06:04:09.637472Z",
          "shell.execute_reply.started": "2022-10-01T06:04:09.626524Z",
          "shell.execute_reply": "2022-10-01T06:04:09.636152Z"
        },
        "trusted": true,
        "colab": {
          "base_uri": "https://localhost:8080/"
        },
        "id": "UdC7yAyM1vQs",
        "outputId": "9cb1ae27-4565-44e0-ee3d-a860f43abe88"
      },
      "execution_count": 23,
      "outputs": [
        {
          "output_type": "stream",
          "name": "stdout",
          "text": [
            "Attempting to fit Linear Regressor\n"
          ]
        }
      ]
    },
    {
      "cell_type": "code",
      "source": [
        "%%time\n",
        "y_pred_val_lr = lr.predict(val_X)\n",
        "print('MAE on Validation set :',metrics.mean_absolute_error(val_y, y_pred_val_lr))\n",
        "print(\"\\n\")\n",
        "print('MSE on Validation set :',metrics.mean_squared_error(val_y, y_pred_val_lr))\n",
        "print(\"\\n\")\n",
        "print('RMSE on Validation set :',np.sqrt(metrics.mean_absolute_error(val_y, y_pred_val_lr)))\n",
        "print(\"\\n\")\n",
        "print('R2 Score on Validation set :',metrics.r2_score(val_y, y_pred_val_lr))\n",
        "print(\"\\n\")"
      ],
      "metadata": {
        "execution": {
          "iopub.status.busy": "2022-10-01T06:04:09.639395Z",
          "iopub.execute_input": "2022-10-01T06:04:09.641035Z",
          "iopub.status.idle": "2022-10-01T06:04:09.653660Z",
          "shell.execute_reply.started": "2022-10-01T06:04:09.640984Z",
          "shell.execute_reply": "2022-10-01T06:04:09.652164Z"
        },
        "trusted": true,
        "colab": {
          "base_uri": "https://localhost:8080/"
        },
        "id": "66liMYNN1vQs",
        "outputId": "373ddb70-4a36-462e-a5e7-582c3df72c1d"
      },
      "execution_count": 24,
      "outputs": [
        {
          "output_type": "stream",
          "name": "stdout",
          "text": [
            "MAE on Validation set : 1.6130841939880156\n",
            "\n",
            "\n",
            "MSE on Validation set : 5.104186010193352\n",
            "\n",
            "\n",
            "RMSE on Validation set : 1.270072515247856\n",
            "\n",
            "\n",
            "R2 Score on Validation set : 0.5300147524184923\n",
            "\n",
            "\n",
            "CPU times: user 6.88 ms, sys: 975 µs, total: 7.86 ms\n",
            "Wall time: 7.86 ms\n"
          ]
        }
      ]
    },
    {
      "cell_type": "markdown",
      "source": [
        "**Support Vector Regressor**"
      ],
      "metadata": {
        "id": "XnobEvXZ1vQt"
      }
    },
    {
      "cell_type": "code",
      "source": [
        "svm = SVR()\n",
        "svm.fit(train_X,train_y)\n",
        "print('Attempting to fit Support Vector Regressor')"
      ],
      "metadata": {
        "execution": {
          "iopub.status.busy": "2022-10-01T06:04:09.656014Z",
          "iopub.execute_input": "2022-10-01T06:04:09.656942Z",
          "iopub.status.idle": "2022-10-01T06:04:10.379454Z",
          "shell.execute_reply.started": "2022-10-01T06:04:09.656862Z",
          "shell.execute_reply": "2022-10-01T06:04:10.378244Z"
        },
        "trusted": true,
        "colab": {
          "base_uri": "https://localhost:8080/"
        },
        "id": "htfrSsj_1vQu",
        "outputId": "e3f994dd-8155-4205-a0c1-b9411d62be14"
      },
      "execution_count": 26,
      "outputs": [
        {
          "output_type": "stream",
          "name": "stdout",
          "text": [
            "Attempting to fit Support Vector Regressor\n"
          ]
        }
      ]
    },
    {
      "cell_type": "code",
      "source": [
        "%%time\n",
        "y_pred_val_svm = svm.predict(val_X)\n",
        "print('MAE on Validation set :',metrics.mean_absolute_error(val_y, y_pred_val_svm))\n",
        "print(\"\\n\")\n",
        "print('MSE on Validation set :',metrics.mean_squared_error(val_y, y_pred_val_svm))\n",
        "print(\"\\n\")\n",
        "print('RMSE on Validation set :',np.sqrt(metrics.mean_absolute_error(val_y, y_pred_val_svm)))\n",
        "print(\"\\n\")\n",
        "print('R2 Score on Validation set :',metrics.r2_score(val_y, y_pred_val_svm))\n",
        "print(\"\\n\")"
      ],
      "metadata": {
        "execution": {
          "iopub.status.busy": "2022-10-01T06:04:10.381109Z",
          "iopub.execute_input": "2022-10-01T06:04:10.381636Z",
          "iopub.status.idle": "2022-10-01T06:04:10.565580Z",
          "shell.execute_reply.started": "2022-10-01T06:04:10.381585Z",
          "shell.execute_reply": "2022-10-01T06:04:10.564212Z"
        },
        "trusted": true,
        "colab": {
          "base_uri": "https://localhost:8080/"
        },
        "id": "0w-rv7gU1vQu",
        "outputId": "aa9de8e0-c416-4d19-9e4b-d2db5708efbb"
      },
      "execution_count": 27,
      "outputs": [
        {
          "output_type": "stream",
          "name": "stdout",
          "text": [
            "MAE on Validation set : 1.556016155671517\n",
            "\n",
            "\n",
            "MSE on Validation set : 5.510122063372042\n",
            "\n",
            "\n",
            "RMSE on Validation set : 1.247403766096414\n",
            "\n",
            "\n",
            "R2 Score on Validation set : 0.4926368128068793\n",
            "\n",
            "\n",
            "CPU times: user 279 ms, sys: 0 ns, total: 279 ms\n",
            "Wall time: 311 ms\n"
          ]
        }
      ]
    },
    {
      "cell_type": "markdown",
      "source": [
        "**Decision Tree Regressor**"
      ],
      "metadata": {
        "id": "VJTFlhKI1vQv"
      }
    },
    {
      "cell_type": "code",
      "source": [
        "dc = DecisionTreeRegressor(random_state = 0)\n",
        "dc.fit(train_X,train_y)\n",
        "print('Attempting to fit Decision Tree Regressor')"
      ],
      "metadata": {
        "execution": {
          "iopub.status.busy": "2022-10-01T06:04:10.566937Z",
          "iopub.execute_input": "2022-10-01T06:04:10.567266Z",
          "iopub.status.idle": "2022-10-01T06:04:10.598038Z",
          "shell.execute_reply.started": "2022-10-01T06:04:10.567234Z",
          "shell.execute_reply": "2022-10-01T06:04:10.596716Z"
        },
        "trusted": true,
        "colab": {
          "base_uri": "https://localhost:8080/"
        },
        "id": "uLFpVxwM1vQw",
        "outputId": "4e47b11b-e190-4d3f-f903-b6c74d426a0a"
      },
      "execution_count": 28,
      "outputs": [
        {
          "output_type": "stream",
          "name": "stdout",
          "text": [
            "Attempting to fit Decision Tree Regressor\n"
          ]
        }
      ]
    },
    {
      "cell_type": "code",
      "source": [
        "%%time\n",
        "y_pred_val_dc = dc.predict(val_X)\n",
        "print('MAE on Validation set :',metrics.mean_absolute_error(val_y, y_pred_val_dc))\n",
        "print(\"\\n\")\n",
        "print('MSE on Validation set :',metrics.mean_squared_error(val_y, y_pred_val_dc))\n",
        "print(\"\\n\")\n",
        "print('RMSE on Validation set :',np.sqrt(metrics.mean_absolute_error(val_y, y_pred_val_dc)))\n",
        "print(\"\\n\")\n",
        "print('R2 Score on Validation set :',metrics.r2_score(val_y, y_pred_val_dc))\n",
        "print(\"\\n\")"
      ],
      "metadata": {
        "execution": {
          "iopub.status.busy": "2022-10-01T06:04:10.599960Z",
          "iopub.execute_input": "2022-10-01T06:04:10.600744Z",
          "iopub.status.idle": "2022-10-01T06:04:10.612010Z",
          "shell.execute_reply.started": "2022-10-01T06:04:10.600692Z",
          "shell.execute_reply": "2022-10-01T06:04:10.610696Z"
        },
        "trusted": true,
        "colab": {
          "base_uri": "https://localhost:8080/"
        },
        "id": "L09Zne1e1vQw",
        "outputId": "42c26d46-51eb-4b03-9bef-99dcf156ef71"
      },
      "execution_count": 29,
      "outputs": [
        {
          "output_type": "stream",
          "name": "stdout",
          "text": [
            "MAE on Validation set : 2.0586124401913874\n",
            "\n",
            "\n",
            "MSE on Validation set : 8.886363636363637\n",
            "\n",
            "\n",
            "RMSE on Validation set : 1.4347865486515363\n",
            "\n",
            "\n",
            "R2 Score on Validation set : 0.18175791293752985\n",
            "\n",
            "\n",
            "CPU times: user 8.96 ms, sys: 0 ns, total: 8.96 ms\n",
            "Wall time: 13.8 ms\n"
          ]
        }
      ]
    },
    {
      "cell_type": "markdown",
      "source": [
        "**Random Forest Regressor**"
      ],
      "metadata": {
        "id": "klwK20Lw1vQw"
      }
    },
    {
      "cell_type": "code",
      "source": [
        "rf = RandomForestRegressor()\n",
        "rf.fit(train_X,train_y)\n",
        "print('Attempting to fit Random Forest Regressor')"
      ],
      "metadata": {
        "execution": {
          "iopub.status.busy": "2022-10-01T06:04:10.613632Z",
          "iopub.execute_input": "2022-10-01T06:04:10.614066Z",
          "iopub.status.idle": "2022-10-01T06:04:12.069410Z",
          "shell.execute_reply.started": "2022-10-01T06:04:10.614028Z",
          "shell.execute_reply": "2022-10-01T06:04:12.068439Z"
        },
        "trusted": true,
        "colab": {
          "base_uri": "https://localhost:8080/"
        },
        "id": "2vQJ6M0F1vQx",
        "outputId": "e4b471ca-8173-423a-a95c-dcd974ccc849"
      },
      "execution_count": 30,
      "outputs": [
        {
          "output_type": "stream",
          "name": "stdout",
          "text": [
            "Attempting to fit Random Forest Regressor\n"
          ]
        }
      ]
    },
    {
      "cell_type": "code",
      "source": [
        "%%time\n",
        "y_pred_val_rf = rf.predict(val_X)\n",
        "print('MAE on Validation set :',metrics.mean_absolute_error(val_y, y_pred_val_rf))\n",
        "print(\"\\n\")\n",
        "print('MSE on Validation set :',metrics.mean_squared_error(val_y, y_pred_val_rf))\n",
        "print(\"\\n\")\n",
        "print('RMSE on Validation set :',np.sqrt(metrics.mean_absolute_error(val_y, y_pred_val_rf)))\n",
        "print(\"\\n\")\n",
        "print('R2 Score on Validation set :',metrics.r2_score(val_y, y_pred_val_rf))\n",
        "print(\"\\n\")"
      ],
      "metadata": {
        "execution": {
          "iopub.status.busy": "2022-10-01T06:04:12.070711Z",
          "iopub.execute_input": "2022-10-01T06:04:12.071780Z",
          "iopub.status.idle": "2022-10-01T06:04:12.112766Z",
          "shell.execute_reply.started": "2022-10-01T06:04:12.071739Z",
          "shell.execute_reply": "2022-10-01T06:04:12.111547Z"
        },
        "trusted": true,
        "colab": {
          "base_uri": "https://localhost:8080/"
        },
        "id": "CtM-4UGn1vQx",
        "outputId": "b169d31a-f16a-49fa-f73c-06d6171edb2c"
      },
      "execution_count": 31,
      "outputs": [
        {
          "output_type": "stream",
          "name": "stdout",
          "text": [
            "MAE on Validation set : 1.5359688995215313\n",
            "\n",
            "\n",
            "MSE on Validation set : 4.623148205741627\n",
            "\n",
            "\n",
            "RMSE on Validation set : 1.2393421236775304\n",
            "\n",
            "\n",
            "R2 Score on Validation set : 0.5743079406310325\n",
            "\n",
            "\n",
            "CPU times: user 39.6 ms, sys: 1.04 ms, total: 40.7 ms\n",
            "Wall time: 39.8 ms\n"
          ]
        }
      ]
    },
    {
      "cell_type": "markdown",
      "source": [
        "**MLP Regressor**"
      ],
      "metadata": {
        "id": "vmWGJSsa1vQx"
      }
    },
    {
      "cell_type": "code",
      "source": [
        "mlp = MLPRegressor(max_iter = 300)\n",
        "mlp.fit(train_X,train_y)\n",
        "print('Attempting to fit MLP Regressor')"
      ],
      "metadata": {
        "execution": {
          "iopub.status.busy": "2022-10-01T06:04:12.114244Z",
          "iopub.execute_input": "2022-10-01T06:04:12.114705Z",
          "iopub.status.idle": "2022-10-01T06:04:17.739280Z",
          "shell.execute_reply.started": "2022-10-01T06:04:12.114668Z",
          "shell.execute_reply": "2022-10-01T06:04:17.737947Z"
        },
        "trusted": true,
        "colab": {
          "base_uri": "https://localhost:8080/"
        },
        "id": "2rahsQDy1vQy",
        "outputId": "a888d7c3-dc39-4038-ee89-6641e67d76ba"
      },
      "execution_count": 32,
      "outputs": [
        {
          "output_type": "stream",
          "name": "stdout",
          "text": [
            "Attempting to fit MLP Regressor\n"
          ]
        },
        {
          "output_type": "stream",
          "name": "stderr",
          "text": [
            "/usr/local/lib/python3.8/dist-packages/sklearn/neural_network/_multilayer_perceptron.py:684: ConvergenceWarning: Stochastic Optimizer: Maximum iterations (300) reached and the optimization hasn't converged yet.\n",
            "  warnings.warn(\n"
          ]
        }
      ]
    },
    {
      "cell_type": "code",
      "source": [
        "%%time\n",
        "y_pred_val_mlp = mlp.predict(val_X)\n",
        "print('MAE on Validation set :',metrics.mean_absolute_error(val_y, y_pred_val_mlp))\n",
        "print(\"\\n\")\n",
        "print('MSE on Validation set :',metrics.mean_squared_error(val_y, y_pred_val_mlp))\n",
        "print(\"\\n\")\n",
        "print('RMSE on Validation set :',np.sqrt(metrics.mean_absolute_error(val_y, y_pred_val_mlp)))\n",
        "print(\"\\n\")\n",
        "print('R2 Score on Validation set :',metrics.r2_score(val_y, y_pred_val_mlp))\n",
        "print(\"\\n\")"
      ],
      "metadata": {
        "execution": {
          "iopub.status.busy": "2022-10-01T06:04:17.741392Z",
          "iopub.execute_input": "2022-10-01T06:04:17.742762Z",
          "iopub.status.idle": "2022-10-01T06:04:17.756653Z",
          "shell.execute_reply.started": "2022-10-01T06:04:17.742701Z",
          "shell.execute_reply": "2022-10-01T06:04:17.755317Z"
        },
        "trusted": true,
        "colab": {
          "base_uri": "https://localhost:8080/"
        },
        "id": "9hCGaHi_1vQy",
        "outputId": "8040d675-7bbf-4ec5-deaf-bf0446624607"
      },
      "execution_count": 33,
      "outputs": [
        {
          "output_type": "stream",
          "name": "stdout",
          "text": [
            "MAE on Validation set : 1.540664910868276\n",
            "\n",
            "\n",
            "MSE on Validation set : 4.759659411272453\n",
            "\n",
            "\n",
            "RMSE on Validation set : 1.2412352359114995\n",
            "\n",
            "\n",
            "R2 Score on Validation set : 0.5617382081406946\n",
            "\n",
            "\n",
            "CPU times: user 7.77 ms, sys: 5.65 ms, total: 13.4 ms\n",
            "Wall time: 7.96 ms\n"
          ]
        }
      ]
    },
    {
      "cell_type": "markdown",
      "source": [
        "**Gradient Boosting Regressor**"
      ],
      "metadata": {
        "id": "exbCnceX1vQy"
      }
    },
    {
      "cell_type": "code",
      "source": [
        "gbc = GradientBoostingRegressor()\n",
        "gbc.fit(train_X,train_y)\n",
        "print('Attempting to fit Gradient Boosting Regressor')"
      ],
      "metadata": {
        "execution": {
          "iopub.status.busy": "2022-10-01T06:04:17.759006Z",
          "iopub.execute_input": "2022-10-01T06:04:17.759973Z",
          "iopub.status.idle": "2022-10-01T06:04:18.308142Z",
          "shell.execute_reply.started": "2022-10-01T06:04:17.759912Z",
          "shell.execute_reply": "2022-10-01T06:04:18.306717Z"
        },
        "trusted": true,
        "colab": {
          "base_uri": "https://localhost:8080/"
        },
        "id": "mlFVqtJD1vQz",
        "outputId": "265818c5-92bc-4c93-9054-7cf9c4f6c3b3"
      },
      "execution_count": 34,
      "outputs": [
        {
          "output_type": "stream",
          "name": "stdout",
          "text": [
            "Attempting to fit Gradient Boosting Regressor\n"
          ]
        }
      ]
    },
    {
      "cell_type": "code",
      "source": [
        "%%time\n",
        "y_pred_val_gbc = gbc.predict(val_X)\n",
        "print('MAE on Validation set :',metrics.mean_absolute_error(val_y, y_pred_val_gbc))\n",
        "print(\"\\n\")\n",
        "print('MSE on Validation set :',metrics.mean_squared_error(val_y, y_pred_val_gbc))\n",
        "print(\"\\n\")\n",
        "print('RMSE on Validation set :',np.sqrt(metrics.mean_absolute_error(val_y, y_pred_val_gbc)))\n",
        "print(\"\\n\")\n",
        "print('R2 Score on Validation set :',metrics.r2_score(val_y, y_pred_val_gbc))\n",
        "print(\"\\n\")"
      ],
      "metadata": {
        "execution": {
          "iopub.status.busy": "2022-10-01T06:04:18.309695Z",
          "iopub.execute_input": "2022-10-01T06:04:18.310523Z",
          "iopub.status.idle": "2022-10-01T06:04:18.324692Z",
          "shell.execute_reply.started": "2022-10-01T06:04:18.310469Z",
          "shell.execute_reply": "2022-10-01T06:04:18.323155Z"
        },
        "trusted": true,
        "colab": {
          "base_uri": "https://localhost:8080/"
        },
        "id": "Gb-zGD1O1vQz",
        "outputId": "f52fa235-2455-4ee4-8548-16789cdb7ad8"
      },
      "execution_count": 35,
      "outputs": [
        {
          "output_type": "stream",
          "name": "stdout",
          "text": [
            "MAE on Validation set : 1.5247813855559167\n",
            "\n",
            "\n",
            "MSE on Validation set : 4.698290274846948\n",
            "\n",
            "\n",
            "RMSE on Validation set : 1.234820385949275\n",
            "\n",
            "\n",
            "R2 Score on Validation set : 0.5673889796288818\n",
            "\n",
            "\n",
            "CPU times: user 9.98 ms, sys: 1.27 ms, total: 11.2 ms\n",
            "Wall time: 15.3 ms\n"
          ]
        }
      ]
    },
    {
      "cell_type": "markdown",
      "source": [
        "**Light GBM Regressor**"
      ],
      "metadata": {
        "id": "GLW9lSUg1vQz"
      }
    },
    {
      "cell_type": "code",
      "source": [
        "lgbm = LGBMRegressor()\n",
        "lgbm.fit(train_X,train_y)\n",
        "print('Attempting to fit Light GBM Regressor')"
      ],
      "metadata": {
        "execution": {
          "iopub.status.busy": "2022-10-01T06:04:18.326770Z",
          "iopub.execute_input": "2022-10-01T06:04:18.327337Z",
          "iopub.status.idle": "2022-10-01T06:04:18.446932Z",
          "shell.execute_reply.started": "2022-10-01T06:04:18.327284Z",
          "shell.execute_reply": "2022-10-01T06:04:18.445953Z"
        },
        "trusted": true,
        "colab": {
          "base_uri": "https://localhost:8080/"
        },
        "id": "5U70B80Z1vQ0",
        "outputId": "16af7695-b6d5-4f42-dad5-d2308b5590af"
      },
      "execution_count": 36,
      "outputs": [
        {
          "output_type": "stream",
          "name": "stdout",
          "text": [
            "Attempting to fit Light GBM Regressor\n"
          ]
        }
      ]
    },
    {
      "cell_type": "code",
      "source": [
        "%%time\n",
        "y_pred_val_lgbm = lgbm.predict(val_X)\n",
        "print('MAE on Validation set :',metrics.mean_absolute_error(val_y, y_pred_val_lgbm))\n",
        "print(\"\\n\")\n",
        "print('MSE on Validation set :',metrics.mean_squared_error(val_y, y_pred_val_lgbm))\n",
        "print(\"\\n\")\n",
        "print('RMSE on Validation set :',np.sqrt(metrics.mean_absolute_error(val_y, y_pred_val_lgbm)))\n",
        "print(\"\\n\")\n",
        "print('R2 Score on Validation set :',metrics.r2_score(val_y, y_pred_val_lgbm))\n",
        "print(\"\\n\")"
      ],
      "metadata": {
        "execution": {
          "iopub.status.busy": "2022-10-01T06:04:18.448700Z",
          "iopub.execute_input": "2022-10-01T06:04:18.449398Z",
          "iopub.status.idle": "2022-10-01T06:04:18.466638Z",
          "shell.execute_reply.started": "2022-10-01T06:04:18.449358Z",
          "shell.execute_reply": "2022-10-01T06:04:18.465723Z"
        },
        "trusted": true,
        "colab": {
          "base_uri": "https://localhost:8080/"
        },
        "id": "ksMjYWeX1vQ0",
        "outputId": "ed19ecfa-c0ad-4d0f-de52-9e0c5193a3e4"
      },
      "execution_count": 37,
      "outputs": [
        {
          "output_type": "stream",
          "name": "stdout",
          "text": [
            "MAE on Validation set : 1.5379989375398153\n",
            "\n",
            "\n",
            "MSE on Validation set : 4.907277601641163\n",
            "\n",
            "\n",
            "RMSE on Validation set : 1.2401608514784748\n",
            "\n",
            "\n",
            "R2 Score on Validation set : 0.5481457623306438\n",
            "\n",
            "\n",
            "CPU times: user 28.7 ms, sys: 1.83 ms, total: 30.5 ms\n",
            "Wall time: 20.3 ms\n"
          ]
        }
      ]
    },
    {
      "cell_type": "markdown",
      "source": [
        "**Overview(R2 Scores) of all Models**"
      ],
      "metadata": {
        "id": "8jV0a2QB1vQ1"
      }
    },
    {
      "cell_type": "code",
      "source": [
        "print('Logistic Regression R2 Score on Validation set :',metrics.r2_score(val_y, y_pred_val_lr))\n",
        "print('SVR R2 Score on Validation set :',metrics.r2_score(val_y, y_pred_val_svm))\n",
        "print('Decision Tree Regressor R2 Score on Validation set :',metrics.r2_score(val_y, y_pred_val_dc))\n",
        "print('Random Forest Regressor R2 Score on Validation set :',metrics.r2_score(val_y, y_pred_val_rf))\n",
        "print('MLP Regressor R2 Score on Validation set :',metrics.r2_score(val_y, y_pred_val_mlp))\n",
        "print('Gradient Boosting R2 Score on Validation set :',metrics.r2_score(val_y, y_pred_val_gbc))\n",
        "print('Light GBM R2 Score on Validation set :',metrics.r2_score(val_y, y_pred_val_lgbm))"
      ],
      "metadata": {
        "execution": {
          "iopub.status.busy": "2022-10-01T06:04:18.468744Z",
          "iopub.execute_input": "2022-10-01T06:04:18.472193Z",
          "iopub.status.idle": "2022-10-01T06:04:18.486483Z",
          "shell.execute_reply.started": "2022-10-01T06:04:18.472148Z",
          "shell.execute_reply": "2022-10-01T06:04:18.485000Z"
        },
        "trusted": true,
        "colab": {
          "base_uri": "https://localhost:8080/"
        },
        "id": "KK80H30-1vQ1",
        "outputId": "bdb06fa8-986e-4c08-ef3e-9c2066aac5a3"
      },
      "execution_count": 38,
      "outputs": [
        {
          "output_type": "stream",
          "name": "stdout",
          "text": [
            "Logistic Regression R2 Score on Validation set : 0.5300147524184923\n",
            "SVR R2 Score on Validation set : 0.4926368128068793\n",
            "Decision Tree Regressor R2 Score on Validation set : 0.18175791293752985\n",
            "Random Forest Regressor R2 Score on Validation set : 0.5743079406310325\n",
            "MLP Regressor R2 Score on Validation set : 0.5617382081406946\n",
            "Gradient Boosting R2 Score on Validation set : 0.5673889796288818\n",
            "Light GBM R2 Score on Validation set : 0.5481457623306438\n"
          ]
        }
      ]
    },
    {
      "cell_type": "markdown",
      "source": [
        "**As we can see our top 3 Models(On the basis of R2 score) are -**\n",
        "\n",
        "1. Random Forest Regressor\n",
        "\n",
        "2. Gradient Boosting Regressor\n",
        "\n",
        "3. MLP Regressor"
      ],
      "metadata": {
        "id": "uGAovVlL1vQ2"
      }
    }
  ]
}